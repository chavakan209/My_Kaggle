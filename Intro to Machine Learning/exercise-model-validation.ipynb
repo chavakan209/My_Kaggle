{
 "cells": [
  {
   "cell_type": "markdown",
   "id": "e3c8d89d",
   "metadata": {
    "papermill": {
     "duration": 0.005371,
     "end_time": "2023-01-31T14:25:23.156996",
     "exception": false,
     "start_time": "2023-01-31T14:25:23.151625",
     "status": "completed"
    },
    "tags": []
   },
   "source": [
    "**This notebook is an exercise in the [Introduction to Machine Learning](https://www.kaggle.com/learn/intro-to-machine-learning) course.  You can reference the tutorial at [this link](https://www.kaggle.com/dansbecker/model-validation).**\n",
    "\n",
    "---\n"
   ]
  },
  {
   "cell_type": "markdown",
   "id": "aeadf7c3",
   "metadata": {
    "papermill": {
     "duration": 0.00401,
     "end_time": "2023-01-31T14:25:23.165563",
     "exception": false,
     "start_time": "2023-01-31T14:25:23.161553",
     "status": "completed"
    },
    "tags": []
   },
   "source": [
    "## Recap\n",
    "You've built a model. In this exercise you will test how good your model is.\n",
    "\n",
    "Run the cell below to set up your coding environment where the previous exercise left off."
   ]
  },
  {
   "cell_type": "code",
   "execution_count": 1,
   "id": "17d6c986",
   "metadata": {
    "execution": {
     "iopub.execute_input": "2023-01-31T14:25:23.176109Z",
     "iopub.status.busy": "2023-01-31T14:25:23.175671Z",
     "iopub.status.idle": "2023-01-31T14:25:24.668095Z",
     "shell.execute_reply": "2023-01-31T14:25:24.666719Z"
    },
    "papermill": {
     "duration": 1.501412,
     "end_time": "2023-01-31T14:25:24.671158",
     "exception": false,
     "start_time": "2023-01-31T14:25:23.169746",
     "status": "completed"
    },
    "tags": []
   },
   "outputs": [
    {
     "name": "stdout",
     "output_type": "stream",
     "text": [
      "First in-sample predictions: [208500. 181500. 223500. 140000. 250000.]\n",
      "Actual target values for those homes: [208500, 181500, 223500, 140000, 250000]\n",
      "Setup Complete\n"
     ]
    }
   ],
   "source": [
    "# Code you have previously used to load data\n",
    "import pandas as pd\n",
    "from sklearn.tree import DecisionTreeRegressor\n",
    "\n",
    "# Path of the file to read\n",
    "iowa_file_path = '../input/home-data-for-ml-course/train.csv'\n",
    "\n",
    "home_data = pd.read_csv(iowa_file_path)\n",
    "y = home_data.SalePrice\n",
    "feature_columns = ['LotArea', 'YearBuilt', '1stFlrSF', '2ndFlrSF', 'FullBath', 'BedroomAbvGr', 'TotRmsAbvGrd']\n",
    "X = home_data[feature_columns]\n",
    "\n",
    "# Specify Model\n",
    "iowa_model = DecisionTreeRegressor()\n",
    "# Fit Model\n",
    "iowa_model.fit(X, y)\n",
    "\n",
    "print(\"First in-sample predictions:\", iowa_model.predict(X.head()))\n",
    "print(\"Actual target values for those homes:\", y.head().tolist())\n",
    "\n",
    "# Set up code checking\n",
    "from learntools.core import binder\n",
    "binder.bind(globals())\n",
    "from learntools.machine_learning.ex4 import *\n",
    "print(\"Setup Complete\")"
   ]
  },
  {
   "cell_type": "markdown",
   "id": "4e8d8bc2",
   "metadata": {
    "papermill": {
     "duration": 0.004288,
     "end_time": "2023-01-31T14:25:24.679945",
     "exception": false,
     "start_time": "2023-01-31T14:25:24.675657",
     "status": "completed"
    },
    "tags": []
   },
   "source": [
    "# Exercises\n",
    "\n",
    "## Step 1: Split Your Data\n",
    "Use the `train_test_split` function to split up your data.\n",
    "\n",
    "Give it the argument `random_state=1` so the `check` functions know what to expect when verifying your code.\n",
    "\n",
    "Recall, your features are loaded in the DataFrame **X** and your target is loaded in **y**.\n"
   ]
  },
  {
   "cell_type": "code",
   "execution_count": 2,
   "id": "b1c5eaf8",
   "metadata": {
    "execution": {
     "iopub.execute_input": "2023-01-31T14:25:24.691089Z",
     "iopub.status.busy": "2023-01-31T14:25:24.690659Z",
     "iopub.status.idle": "2023-01-31T14:25:24.706257Z",
     "shell.execute_reply": "2023-01-31T14:25:24.705148Z"
    },
    "papermill": {
     "duration": 0.024177,
     "end_time": "2023-01-31T14:25:24.708705",
     "exception": false,
     "start_time": "2023-01-31T14:25:24.684528",
     "status": "completed"
    },
    "tags": []
   },
   "outputs": [
    {
     "data": {
      "application/javascript": [
       "parent.postMessage({\"jupyterEvent\": \"custom.exercise_interaction\", \"data\": {\"outcomeType\": 1, \"valueTowardsCompletion\": 0.25, \"interactionType\": 1, \"questionType\": 2, \"questionId\": \"1_SplitData\", \"learnToolsVersion\": \"0.3.4\", \"failureMessage\": \"\", \"exceptionClass\": \"\", \"trace\": \"\"}}, \"*\")"
      ],
      "text/plain": [
       "<IPython.core.display.Javascript object>"
      ]
     },
     "metadata": {},
     "output_type": "display_data"
    },
    {
     "data": {
      "text/markdown": [
       "<span style=\"color:#33cc33\">Correct</span>"
      ],
      "text/plain": [
       "Correct"
      ]
     },
     "metadata": {},
     "output_type": "display_data"
    }
   ],
   "source": [
    "# Import the train_test_split function and uncomment\n",
    "from sklearn.model_selection import train_test_split\n",
    "# fill in and uncomment\n",
    "train_X, val_X, train_y, val_y = train_test_split(X, y, random_state = 1)\n",
    "\n",
    "# Check your answer\n",
    "step_1.check()"
   ]
  },
  {
   "cell_type": "code",
   "execution_count": 3,
   "id": "c6ee97c6",
   "metadata": {
    "execution": {
     "iopub.execute_input": "2023-01-31T14:25:24.720114Z",
     "iopub.status.busy": "2023-01-31T14:25:24.719694Z",
     "iopub.status.idle": "2023-01-31T14:25:24.724341Z",
     "shell.execute_reply": "2023-01-31T14:25:24.723094Z"
    },
    "papermill": {
     "duration": 0.013202,
     "end_time": "2023-01-31T14:25:24.726670",
     "exception": false,
     "start_time": "2023-01-31T14:25:24.713468",
     "status": "completed"
    },
    "tags": []
   },
   "outputs": [],
   "source": [
    "# The lines below will show you a hint or the solution.\n",
    "# step_1.hint() \n",
    "# step_1.solution()\n"
   ]
  },
  {
   "cell_type": "markdown",
   "id": "de242cce",
   "metadata": {
    "papermill": {
     "duration": 0.004621,
     "end_time": "2023-01-31T14:25:24.736100",
     "exception": false,
     "start_time": "2023-01-31T14:25:24.731479",
     "status": "completed"
    },
    "tags": []
   },
   "source": [
    "## Step 2: Specify and Fit the Model\n",
    "\n",
    "Create a `DecisionTreeRegressor` model and fit it to the relevant data.\n",
    "Set `random_state` to 1 again when creating the model."
   ]
  },
  {
   "cell_type": "code",
   "execution_count": 4,
   "id": "86572166",
   "metadata": {
    "execution": {
     "iopub.execute_input": "2023-01-31T14:25:24.747520Z",
     "iopub.status.busy": "2023-01-31T14:25:24.747124Z",
     "iopub.status.idle": "2023-01-31T14:25:24.776619Z",
     "shell.execute_reply": "2023-01-31T14:25:24.775201Z"
    },
    "papermill": {
     "duration": 0.038827,
     "end_time": "2023-01-31T14:25:24.779755",
     "exception": false,
     "start_time": "2023-01-31T14:25:24.740928",
     "status": "completed"
    },
    "tags": []
   },
   "outputs": [
    {
     "name": "stdout",
     "output_type": "stream",
     "text": [
      "[186500. 184000. 130000.  92000. 164500. 220000. 335000. 144152. 215000.\n",
      " 262000.]\n",
      "[186500. 184000. 130000.  92000. 164500. 220000. 335000. 144152. 215000.\n",
      " 262000.]\n"
     ]
    },
    {
     "data": {
      "application/javascript": [
       "parent.postMessage({\"jupyterEvent\": \"custom.exercise_interaction\", \"data\": {\"outcomeType\": 1, \"valueTowardsCompletion\": 0.25, \"interactionType\": 1, \"questionType\": 2, \"questionId\": \"2_FitModelWithTrain\", \"learnToolsVersion\": \"0.3.4\", \"failureMessage\": \"\", \"exceptionClass\": \"\", \"trace\": \"\"}}, \"*\")"
      ],
      "text/plain": [
       "<IPython.core.display.Javascript object>"
      ]
     },
     "metadata": {},
     "output_type": "display_data"
    },
    {
     "data": {
      "text/markdown": [
       "<span style=\"color:#33cc33\">Correct</span>"
      ],
      "text/plain": [
       "Correct"
      ]
     },
     "metadata": {},
     "output_type": "display_data"
    }
   ],
   "source": [
    "# You imported DecisionTreeRegressor in your last exercise\n",
    "# and that code has been copied to the setup code above. So, no need to\n",
    "from sklearn.tree import DecisionTreeRegressor\n",
    "\n",
    "# Specify the model\n",
    "iowa_model = DecisionTreeRegressor(random_state = 1)\n",
    "\n",
    "# Fit iowa_model with the training data.\n",
    "iowa_model.fit(train_X, train_y)\n",
    "\n",
    "# Check your answer\n",
    "step_2.check()"
   ]
  },
  {
   "cell_type": "code",
   "execution_count": 5,
   "id": "9b33d346",
   "metadata": {
    "execution": {
     "iopub.execute_input": "2023-01-31T14:25:24.792055Z",
     "iopub.status.busy": "2023-01-31T14:25:24.791612Z",
     "iopub.status.idle": "2023-01-31T14:25:24.796309Z",
     "shell.execute_reply": "2023-01-31T14:25:24.795219Z"
    },
    "papermill": {
     "duration": 0.013681,
     "end_time": "2023-01-31T14:25:24.798667",
     "exception": false,
     "start_time": "2023-01-31T14:25:24.784986",
     "status": "completed"
    },
    "tags": []
   },
   "outputs": [],
   "source": [
    "# step_2.hint()\n",
    "# step_2.solution()"
   ]
  },
  {
   "cell_type": "markdown",
   "id": "a3643cd3",
   "metadata": {
    "papermill": {
     "duration": 0.004933,
     "end_time": "2023-01-31T14:25:24.809052",
     "exception": false,
     "start_time": "2023-01-31T14:25:24.804119",
     "status": "completed"
    },
    "tags": []
   },
   "source": [
    "## Step 3: Make Predictions with Validation data\n"
   ]
  },
  {
   "cell_type": "code",
   "execution_count": 6,
   "id": "7b1a808a",
   "metadata": {
    "execution": {
     "iopub.execute_input": "2023-01-31T14:25:24.821805Z",
     "iopub.status.busy": "2023-01-31T14:25:24.821415Z",
     "iopub.status.idle": "2023-01-31T14:25:24.835583Z",
     "shell.execute_reply": "2023-01-31T14:25:24.834314Z"
    },
    "papermill": {
     "duration": 0.023729,
     "end_time": "2023-01-31T14:25:24.838105",
     "exception": false,
     "start_time": "2023-01-31T14:25:24.814376",
     "status": "completed"
    },
    "tags": []
   },
   "outputs": [
    {
     "data": {
      "application/javascript": [
       "parent.postMessage({\"jupyterEvent\": \"custom.exercise_interaction\", \"data\": {\"outcomeType\": 1, \"valueTowardsCompletion\": 0.25, \"interactionType\": 1, \"questionType\": 2, \"questionId\": \"3_ValPreds\", \"learnToolsVersion\": \"0.3.4\", \"failureMessage\": \"\", \"exceptionClass\": \"\", \"trace\": \"\"}}, \"*\")"
      ],
      "text/plain": [
       "<IPython.core.display.Javascript object>"
      ]
     },
     "metadata": {},
     "output_type": "display_data"
    },
    {
     "data": {
      "text/markdown": [
       "<span style=\"color:#33cc33\">Correct</span>"
      ],
      "text/plain": [
       "Correct"
      ]
     },
     "metadata": {},
     "output_type": "display_data"
    }
   ],
   "source": [
    "# Predict with all validation observations\n",
    "val_predictions = iowa_model.predict(val_X)\n",
    "\n",
    "# Check your answer\n",
    "step_3.check()"
   ]
  },
  {
   "cell_type": "code",
   "execution_count": 7,
   "id": "a1ca6a7e",
   "metadata": {
    "execution": {
     "iopub.execute_input": "2023-01-31T14:25:24.851830Z",
     "iopub.status.busy": "2023-01-31T14:25:24.850857Z",
     "iopub.status.idle": "2023-01-31T14:25:24.857701Z",
     "shell.execute_reply": "2023-01-31T14:25:24.856273Z"
    },
    "papermill": {
     "duration": 0.016366,
     "end_time": "2023-01-31T14:25:24.860227",
     "exception": false,
     "start_time": "2023-01-31T14:25:24.843861",
     "status": "completed"
    },
    "tags": []
   },
   "outputs": [],
   "source": [
    "# step_3.hint()\n",
    "# step_3.solution()"
   ]
  },
  {
   "cell_type": "markdown",
   "id": "c0c3bd5c",
   "metadata": {
    "papermill": {
     "duration": 0.00514,
     "end_time": "2023-01-31T14:25:24.871065",
     "exception": false,
     "start_time": "2023-01-31T14:25:24.865925",
     "status": "completed"
    },
    "tags": []
   },
   "source": [
    "Inspect your predictions and actual values from validation data."
   ]
  },
  {
   "cell_type": "code",
   "execution_count": 8,
   "id": "4b97f830",
   "metadata": {
    "execution": {
     "iopub.execute_input": "2023-01-31T14:25:24.883614Z",
     "iopub.status.busy": "2023-01-31T14:25:24.883132Z",
     "iopub.status.idle": "2023-01-31T14:25:24.890856Z",
     "shell.execute_reply": "2023-01-31T14:25:24.889479Z"
    },
    "papermill": {
     "duration": 0.017038,
     "end_time": "2023-01-31T14:25:24.893485",
     "exception": false,
     "start_time": "2023-01-31T14:25:24.876447",
     "status": "completed"
    },
    "tags": []
   },
   "outputs": [
    {
     "name": "stdout",
     "output_type": "stream",
     "text": [
      "[186500. 184000. 130000.  92000. 164500.]\n",
      "258     231500\n",
      "267     179500\n",
      "288     122000\n",
      "649      84500\n",
      "1233    142000\n",
      "Name: SalePrice, dtype: int64\n"
     ]
    }
   ],
   "source": [
    "# print the top few validation predictions\n",
    "print(val_predictions[:5])\n",
    "# print the top few actual prices from validation data\n",
    "print(val_y[:5])"
   ]
  },
  {
   "cell_type": "markdown",
   "id": "f3509cb5",
   "metadata": {
    "papermill": {
     "duration": 0.005233,
     "end_time": "2023-01-31T14:25:24.904669",
     "exception": false,
     "start_time": "2023-01-31T14:25:24.899436",
     "status": "completed"
    },
    "tags": []
   },
   "source": [
    "What do you notice that is different from what you saw with in-sample predictions (which are printed after the top code cell in this page).\n",
    "\n",
    "Do you remember why validation predictions differ from in-sample (or training) predictions? This is an important idea from the last lesson.\n",
    "\n",
    "## Step 4: Calculate the Mean Absolute Error in Validation Data\n"
   ]
  },
  {
   "cell_type": "code",
   "execution_count": 9,
   "id": "205f3b87",
   "metadata": {
    "execution": {
     "iopub.execute_input": "2023-01-31T14:25:24.917821Z",
     "iopub.status.busy": "2023-01-31T14:25:24.917036Z",
     "iopub.status.idle": "2023-01-31T14:25:24.930878Z",
     "shell.execute_reply": "2023-01-31T14:25:24.929376Z"
    },
    "papermill": {
     "duration": 0.023326,
     "end_time": "2023-01-31T14:25:24.933563",
     "exception": false,
     "start_time": "2023-01-31T14:25:24.910237",
     "status": "completed"
    },
    "tags": []
   },
   "outputs": [
    {
     "name": "stdout",
     "output_type": "stream",
     "text": [
      "29652.931506849316\n"
     ]
    },
    {
     "data": {
      "application/javascript": [
       "parent.postMessage({\"jupyterEvent\": \"custom.exercise_interaction\", \"data\": {\"outcomeType\": 1, \"valueTowardsCompletion\": 0.25, \"interactionType\": 1, \"questionType\": 1, \"questionId\": \"4_MAE\", \"learnToolsVersion\": \"0.3.4\", \"failureMessage\": \"\", \"exceptionClass\": \"\", \"trace\": \"\"}}, \"*\")"
      ],
      "text/plain": [
       "<IPython.core.display.Javascript object>"
      ]
     },
     "metadata": {},
     "output_type": "display_data"
    },
    {
     "data": {
      "text/markdown": [
       "<span style=\"color:#33cc33\">Correct</span>"
      ],
      "text/plain": [
       "Correct"
      ]
     },
     "metadata": {},
     "output_type": "display_data"
    }
   ],
   "source": [
    "from sklearn.metrics import mean_absolute_error\n",
    "val_mae = mean_absolute_error(val_y, val_predictions)\n",
    "\n",
    "# uncomment following line to see the validation_mae\n",
    "print(val_mae)\n",
    "\n",
    "# Check your answer\n",
    "step_4.check()"
   ]
  },
  {
   "cell_type": "code",
   "execution_count": 10,
   "id": "0946b8af",
   "metadata": {
    "execution": {
     "iopub.execute_input": "2023-01-31T14:25:24.947954Z",
     "iopub.status.busy": "2023-01-31T14:25:24.947212Z",
     "iopub.status.idle": "2023-01-31T14:25:24.952707Z",
     "shell.execute_reply": "2023-01-31T14:25:24.951401Z"
    },
    "papermill": {
     "duration": 0.015308,
     "end_time": "2023-01-31T14:25:24.955348",
     "exception": false,
     "start_time": "2023-01-31T14:25:24.940040",
     "status": "completed"
    },
    "tags": []
   },
   "outputs": [],
   "source": [
    "# step_4.hint()\n",
    "# step_4.solution()"
   ]
  },
  {
   "cell_type": "markdown",
   "id": "4eb7a805",
   "metadata": {
    "papermill": {
     "duration": 0.005545,
     "end_time": "2023-01-31T14:25:24.966917",
     "exception": false,
     "start_time": "2023-01-31T14:25:24.961372",
     "status": "completed"
    },
    "tags": []
   },
   "source": [
    "Is that MAE good?  There isn't a general rule for what values are good that applies across applications. But you'll see how to use (and improve) this number in the next step.\n",
    "\n",
    "# Keep Going\n",
    "\n",
    "You are ready for **[Underfitting and Overfitting](https://www.kaggle.com/dansbecker/underfitting-and-overfitting).**\n"
   ]
  },
  {
   "cell_type": "markdown",
   "id": "ac64d971",
   "metadata": {
    "papermill": {
     "duration": 0.005408,
     "end_time": "2023-01-31T14:25:24.978920",
     "exception": false,
     "start_time": "2023-01-31T14:25:24.973512",
     "status": "completed"
    },
    "tags": []
   },
   "source": [
    "---\n",
    "\n",
    "\n",
    "\n",
    "\n",
    "*Have questions or comments? Visit the [course discussion forum](https://www.kaggle.com/learn/intro-to-machine-learning/discussion) to chat with other learners.*"
   ]
  }
 ],
 "metadata": {
  "kernelspec": {
   "display_name": "Python 3",
   "language": "python",
   "name": "python3"
  },
  "language_info": {
   "codemirror_mode": {
    "name": "ipython",
    "version": 3
   },
   "file_extension": ".py",
   "mimetype": "text/x-python",
   "name": "python",
   "nbconvert_exporter": "python",
   "pygments_lexer": "ipython3",
   "version": "3.7.12"
  },
  "papermill": {
   "default_parameters": {},
   "duration": 11.576611,
   "end_time": "2023-01-31T14:25:25.707413",
   "environment_variables": {},
   "exception": null,
   "input_path": "__notebook__.ipynb",
   "output_path": "__notebook__.ipynb",
   "parameters": {},
   "start_time": "2023-01-31T14:25:14.130802",
   "version": "2.3.4"
  }
 },
 "nbformat": 4,
 "nbformat_minor": 5
}
