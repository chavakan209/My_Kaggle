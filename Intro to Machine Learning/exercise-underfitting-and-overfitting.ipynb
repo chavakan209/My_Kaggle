{
 "cells": [
  {
   "cell_type": "markdown",
   "id": "4a352362",
   "metadata": {
    "papermill": {
     "duration": 0.004402,
     "end_time": "2023-02-01T13:49:23.847883",
     "exception": false,
     "start_time": "2023-02-01T13:49:23.843481",
     "status": "completed"
    },
    "tags": []
   },
   "source": [
    "**This notebook is an exercise in the [Introduction to Machine Learning](https://www.kaggle.com/learn/intro-to-machine-learning) course.  You can reference the tutorial at [this link](https://www.kaggle.com/dansbecker/underfitting-and-overfitting).**\n",
    "\n",
    "---\n"
   ]
  },
  {
   "cell_type": "markdown",
   "id": "9b3009a6",
   "metadata": {
    "papermill": {
     "duration": 0.003007,
     "end_time": "2023-02-01T13:49:23.854401",
     "exception": false,
     "start_time": "2023-02-01T13:49:23.851394",
     "status": "completed"
    },
    "tags": []
   },
   "source": [
    "## Recap\n",
    "You've built your first model, and now it's time to optimize the size of the tree to make better predictions. Run this cell to set up your coding environment where the previous step left off."
   ]
  },
  {
   "cell_type": "code",
   "execution_count": 1,
   "id": "0677de45",
   "metadata": {
    "execution": {
     "iopub.execute_input": "2023-02-01T13:49:23.863736Z",
     "iopub.status.busy": "2023-02-01T13:49:23.862762Z",
     "iopub.status.idle": "2023-02-01T13:49:25.133751Z",
     "shell.execute_reply": "2023-02-01T13:49:25.132478Z"
    },
    "papermill": {
     "duration": 1.279068,
     "end_time": "2023-02-01T13:49:25.136671",
     "exception": false,
     "start_time": "2023-02-01T13:49:23.857603",
     "status": "completed"
    },
    "tags": []
   },
   "outputs": [
    {
     "name": "stdout",
     "output_type": "stream",
     "text": [
      "Validation MAE: 29,653\n",
      "\n",
      "Setup complete\n"
     ]
    }
   ],
   "source": [
    "# Code you have previously used to load data\n",
    "import pandas as pd\n",
    "from sklearn.metrics import mean_absolute_error\n",
    "from sklearn.model_selection import train_test_split\n",
    "from sklearn.tree import DecisionTreeRegressor\n",
    "\n",
    "\n",
    "# Path of the file to read\n",
    "iowa_file_path = '../input/home-data-for-ml-course/train.csv'\n",
    "\n",
    "home_data = pd.read_csv(iowa_file_path)\n",
    "# Create target object and call it y\n",
    "y = home_data.SalePrice\n",
    "# Create X\n",
    "features = ['LotArea', 'YearBuilt', '1stFlrSF', '2ndFlrSF', 'FullBath', 'BedroomAbvGr', 'TotRmsAbvGrd']\n",
    "X = home_data[features]\n",
    "\n",
    "# Split into validation and training data\n",
    "train_X, val_X, train_y, val_y = train_test_split(X, y, random_state=1)\n",
    "\n",
    "# Specify Model\n",
    "iowa_model = DecisionTreeRegressor(random_state=1)\n",
    "# Fit Model\n",
    "iowa_model.fit(train_X, train_y)\n",
    "\n",
    "# Make validation predictions and calculate mean absolute error\n",
    "val_predictions = iowa_model.predict(val_X)\n",
    "val_mae = mean_absolute_error(val_predictions, val_y)\n",
    "print(\"Validation MAE: {:,.0f}\".format(val_mae))\n",
    "\n",
    "# Set up code checking\n",
    "from learntools.core import binder\n",
    "binder.bind(globals())\n",
    "from learntools.machine_learning.ex5 import *\n",
    "print(\"\\nSetup complete\")"
   ]
  },
  {
   "cell_type": "markdown",
   "id": "7fc24c75",
   "metadata": {
    "papermill": {
     "duration": 0.003383,
     "end_time": "2023-02-01T13:49:25.143755",
     "exception": false,
     "start_time": "2023-02-01T13:49:25.140372",
     "status": "completed"
    },
    "tags": []
   },
   "source": [
    "# Exercises\n",
    "You could write the function `get_mae` yourself. For now, we'll supply it. This is the same function you read about in the previous lesson. Just run the cell below."
   ]
  },
  {
   "cell_type": "code",
   "execution_count": 2,
   "id": "5094fc2f",
   "metadata": {
    "execution": {
     "iopub.execute_input": "2023-02-01T13:49:25.152748Z",
     "iopub.status.busy": "2023-02-01T13:49:25.151953Z",
     "iopub.status.idle": "2023-02-01T13:49:25.158004Z",
     "shell.execute_reply": "2023-02-01T13:49:25.157220Z"
    },
    "papermill": {
     "duration": 0.01314,
     "end_time": "2023-02-01T13:49:25.160173",
     "exception": false,
     "start_time": "2023-02-01T13:49:25.147033",
     "status": "completed"
    },
    "tags": []
   },
   "outputs": [],
   "source": [
    "def get_mae(max_leaf_nodes, train_X, val_X, train_y, val_y):\n",
    "    model = DecisionTreeRegressor(max_leaf_nodes=max_leaf_nodes, random_state=0)\n",
    "    model.fit(train_X, train_y)\n",
    "    preds_val = model.predict(val_X)\n",
    "    mae = mean_absolute_error(val_y, preds_val)\n",
    "    return(mae)"
   ]
  },
  {
   "cell_type": "markdown",
   "id": "dba39a7d",
   "metadata": {
    "papermill": {
     "duration": 0.0031,
     "end_time": "2023-02-01T13:49:25.166745",
     "exception": false,
     "start_time": "2023-02-01T13:49:25.163645",
     "status": "completed"
    },
    "tags": []
   },
   "source": [
    "## Step 1: Compare Different Tree Sizes\n",
    "Write a loop that tries the following values for *max_leaf_nodes* from a set of possible values.\n",
    "\n",
    "Call the *get_mae* function on each value of max_leaf_nodes. Store the output in some way that allows you to select the value of `max_leaf_nodes` that gives the most accurate model on your data."
   ]
  },
  {
   "cell_type": "code",
   "execution_count": 3,
   "id": "2427eda0",
   "metadata": {
    "execution": {
     "iopub.execute_input": "2023-02-01T13:49:25.175454Z",
     "iopub.status.busy": "2023-02-01T13:49:25.174791Z",
     "iopub.status.idle": "2023-02-01T13:49:25.225097Z",
     "shell.execute_reply": "2023-02-01T13:49:25.223872Z"
    },
    "papermill": {
     "duration": 0.05754,
     "end_time": "2023-02-01T13:49:25.227627",
     "exception": false,
     "start_time": "2023-02-01T13:49:25.170087",
     "status": "completed"
    },
    "tags": []
   },
   "outputs": [
    {
     "name": "stdout",
     "output_type": "stream",
     "text": [
      "max_leaf: 5 \t mae:35044\n",
      "max_leaf: 25 \t mae:29016\n",
      "max_leaf: 50 \t mae:27405\n",
      "max_leaf: 100 \t mae:27282\n",
      "max_leaf: 250 \t mae:27893\n",
      "max_leaf: 500 \t mae:29454\n"
     ]
    },
    {
     "data": {
      "application/javascript": [
       "parent.postMessage({\"jupyterEvent\": \"custom.exercise_interaction\", \"data\": {\"outcomeType\": 1, \"valueTowardsCompletion\": 0.5, \"interactionType\": 1, \"questionType\": 1, \"questionId\": \"1_BestTreeSize\", \"learnToolsVersion\": \"0.3.4\", \"failureMessage\": \"\", \"exceptionClass\": \"\", \"trace\": \"\"}}, \"*\")"
      ],
      "text/plain": [
       "<IPython.core.display.Javascript object>"
      ]
     },
     "metadata": {},
     "output_type": "display_data"
    },
    {
     "data": {
      "text/markdown": [
       "<span style=\"color:#33cc33\">Correct</span>"
      ],
      "text/plain": [
       "Correct"
      ]
     },
     "metadata": {},
     "output_type": "display_data"
    }
   ],
   "source": [
    "candidate_max_leaf_nodes = [5, 25, 50, 100, 250, 500]\n",
    "# Write loop to find the ideal tree size from candidate_max_leaf_nodes\n",
    "for max_leaf in candidate_max_leaf_nodes:\n",
    "    mae = get_mae(max_leaf, train_X, val_X, train_y, val_y)\n",
    "    print(\"max_leaf: %d \\t mae:%d\"%(max_leaf, mae))\n",
    "\n",
    "# Store the best value of max_leaf_nodes (it will be either 5, 25, 50, 100, 250 or 500)\n",
    "best_tree_size = 100\n",
    "\n",
    "\n",
    "# Check your answer\n",
    "step_1.check()"
   ]
  },
  {
   "cell_type": "code",
   "execution_count": 4,
   "id": "4386401d",
   "metadata": {
    "execution": {
     "iopub.execute_input": "2023-02-01T13:49:25.237293Z",
     "iopub.status.busy": "2023-02-01T13:49:25.236424Z",
     "iopub.status.idle": "2023-02-01T13:49:25.240871Z",
     "shell.execute_reply": "2023-02-01T13:49:25.239840Z"
    },
    "papermill": {
     "duration": 0.011474,
     "end_time": "2023-02-01T13:49:25.242994",
     "exception": false,
     "start_time": "2023-02-01T13:49:25.231520",
     "status": "completed"
    },
    "tags": []
   },
   "outputs": [],
   "source": [
    "# The lines below will show you a hint or the solution.\n",
    "# step_1.hint() \n",
    "# step_1.solution()"
   ]
  },
  {
   "cell_type": "markdown",
   "id": "2376ba38",
   "metadata": {
    "papermill": {
     "duration": 0.003585,
     "end_time": "2023-02-01T13:49:25.250457",
     "exception": false,
     "start_time": "2023-02-01T13:49:25.246872",
     "status": "completed"
    },
    "tags": []
   },
   "source": [
    "## Step 2: Fit Model Using All Data\n",
    "You know the best tree size. If you were going to deploy this model in practice, you would make it even more accurate by using all of the data and keeping that tree size.  That is, you don't need to hold out the validation data now that you've made all your modeling decisions."
   ]
  },
  {
   "cell_type": "code",
   "execution_count": 5,
   "id": "83edd7f6",
   "metadata": {
    "execution": {
     "iopub.execute_input": "2023-02-01T13:49:25.259526Z",
     "iopub.status.busy": "2023-02-01T13:49:25.259109Z",
     "iopub.status.idle": "2023-02-01T13:49:25.276128Z",
     "shell.execute_reply": "2023-02-01T13:49:25.275082Z"
    },
    "papermill": {
     "duration": 0.024258,
     "end_time": "2023-02-01T13:49:25.278351",
     "exception": false,
     "start_time": "2023-02-01T13:49:25.254093",
     "status": "completed"
    },
    "tags": []
   },
   "outputs": [
    {
     "data": {
      "application/javascript": [
       "parent.postMessage({\"jupyterEvent\": \"custom.exercise_interaction\", \"data\": {\"outcomeType\": 1, \"valueTowardsCompletion\": 0.5, \"interactionType\": 1, \"questionType\": 2, \"questionId\": \"2_FitModelWithAllData\", \"learnToolsVersion\": \"0.3.4\", \"failureMessage\": \"\", \"exceptionClass\": \"\", \"trace\": \"\"}}, \"*\")"
      ],
      "text/plain": [
       "<IPython.core.display.Javascript object>"
      ]
     },
     "metadata": {},
     "output_type": "display_data"
    },
    {
     "data": {
      "text/markdown": [
       "<span style=\"color:#33cc33\">Correct</span>"
      ],
      "text/plain": [
       "Correct"
      ]
     },
     "metadata": {},
     "output_type": "display_data"
    }
   ],
   "source": [
    "# Fill in argument to make optimal size and uncomment\n",
    "final_model = DecisionTreeRegressor(max_leaf_nodes = best_tree_size, random_state = 0)\n",
    "\n",
    "# fit the final model and uncomment the next two lines\n",
    "final_model.fit(X, y)\n",
    "\n",
    "# Check your answer\n",
    "step_2.check()"
   ]
  },
  {
   "cell_type": "code",
   "execution_count": 6,
   "id": "38cbb483",
   "metadata": {
    "execution": {
     "iopub.execute_input": "2023-02-01T13:49:25.288511Z",
     "iopub.status.busy": "2023-02-01T13:49:25.287499Z",
     "iopub.status.idle": "2023-02-01T13:49:25.296962Z",
     "shell.execute_reply": "2023-02-01T13:49:25.296121Z"
    },
    "papermill": {
     "duration": 0.016911,
     "end_time": "2023-02-01T13:49:25.299329",
     "exception": false,
     "start_time": "2023-02-01T13:49:25.282418",
     "status": "completed"
    },
    "tags": []
   },
   "outputs": [
    {
     "data": {
      "application/javascript": [
       "parent.postMessage({\"jupyterEvent\": \"custom.exercise_interaction\", \"data\": {\"interactionType\": 2, \"questionType\": 2, \"questionId\": \"2_FitModelWithAllData\", \"learnToolsVersion\": \"0.3.4\", \"valueTowardsCompletion\": 0.0, \"failureMessage\": \"\", \"exceptionClass\": \"\", \"trace\": \"\", \"outcomeType\": 4}}, \"*\")"
      ],
      "text/plain": [
       "<IPython.core.display.Javascript object>"
      ]
     },
     "metadata": {},
     "output_type": "display_data"
    },
    {
     "data": {
      "text/markdown": [
       "<span style=\"color:#3366cc\">Hint:</span> Fit with the ideal value of max_leaf_nodes. In the fit step, use all of the data in the dataset"
      ],
      "text/plain": [
       "Hint: Fit with the ideal value of max_leaf_nodes. In the fit step, use all of the data in the dataset"
      ]
     },
     "metadata": {},
     "output_type": "display_data"
    }
   ],
   "source": [
    "step_2.hint()\n",
    "# step_2.solution()"
   ]
  },
  {
   "cell_type": "markdown",
   "id": "69f2247d",
   "metadata": {
    "papermill": {
     "duration": 0.003984,
     "end_time": "2023-02-01T13:49:25.307791",
     "exception": false,
     "start_time": "2023-02-01T13:49:25.303807",
     "status": "completed"
    },
    "tags": []
   },
   "source": [
    "You've tuned this model and improved your results. But we are still using Decision Tree models, which are not very sophisticated by modern machine learning standards. In the next step you will learn to use Random Forests to improve your models even more.\n",
    "\n",
    "# Keep Going\n",
    "\n",
    "You are ready for **[Random Forests](https://www.kaggle.com/dansbecker/random-forests).**\n"
   ]
  },
  {
   "cell_type": "markdown",
   "id": "16f8ce03",
   "metadata": {
    "papermill": {
     "duration": 0.003937,
     "end_time": "2023-02-01T13:49:25.315935",
     "exception": false,
     "start_time": "2023-02-01T13:49:25.311998",
     "status": "completed"
    },
    "tags": []
   },
   "source": [
    "---\n",
    "\n",
    "\n",
    "\n",
    "\n",
    "*Have questions or comments? Visit the [course discussion forum](https://www.kaggle.com/learn/intro-to-machine-learning/discussion) to chat with other learners.*"
   ]
  }
 ],
 "metadata": {
  "kernelspec": {
   "display_name": "Python 3",
   "language": "python",
   "name": "python3"
  },
  "language_info": {
   "codemirror_mode": {
    "name": "ipython",
    "version": 3
   },
   "file_extension": ".py",
   "mimetype": "text/x-python",
   "name": "python",
   "nbconvert_exporter": "python",
   "pygments_lexer": "ipython3",
   "version": "3.7.12"
  },
  "papermill": {
   "default_parameters": {},
   "duration": 10.383944,
   "end_time": "2023-02-01T13:49:26.041639",
   "environment_variables": {},
   "exception": null,
   "input_path": "__notebook__.ipynb",
   "output_path": "__notebook__.ipynb",
   "parameters": {},
   "start_time": "2023-02-01T13:49:15.657695",
   "version": "2.3.4"
  }
 },
 "nbformat": 4,
 "nbformat_minor": 5
}
