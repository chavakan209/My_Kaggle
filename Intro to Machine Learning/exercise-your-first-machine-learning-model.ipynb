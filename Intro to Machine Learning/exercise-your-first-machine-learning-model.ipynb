{
 "cells": [
  {
   "cell_type": "markdown",
   "id": "b3cd3e85",
   "metadata": {
    "papermill": {
     "duration": 0.006139,
     "end_time": "2023-01-31T13:41:46.403442",
     "exception": false,
     "start_time": "2023-01-31T13:41:46.397303",
     "status": "completed"
    },
    "tags": []
   },
   "source": [
    "**This notebook is an exercise in the [Introduction to Machine Learning](https://www.kaggle.com/learn/intro-to-machine-learning) course.  You can reference the tutorial at [this link](https://www.kaggle.com/dansbecker/your-first-machine-learning-model).**\n",
    "\n",
    "---\n"
   ]
  },
  {
   "cell_type": "markdown",
   "id": "a21e6730",
   "metadata": {
    "papermill": {
     "duration": 0.004695,
     "end_time": "2023-01-31T13:41:46.413426",
     "exception": false,
     "start_time": "2023-01-31T13:41:46.408731",
     "status": "completed"
    },
    "tags": []
   },
   "source": [
    "## Recap\n",
    "So far, you have loaded your data and reviewed it with the following code. Run this cell to set up your coding environment where the previous step left off."
   ]
  },
  {
   "cell_type": "code",
   "execution_count": 1,
   "id": "16517262",
   "metadata": {
    "execution": {
     "iopub.execute_input": "2023-01-31T13:41:46.425771Z",
     "iopub.status.busy": "2023-01-31T13:41:46.424776Z",
     "iopub.status.idle": "2023-01-31T13:41:47.829473Z",
     "shell.execute_reply": "2023-01-31T13:41:47.827811Z"
    },
    "papermill": {
     "duration": 1.413819,
     "end_time": "2023-01-31T13:41:47.832302",
     "exception": false,
     "start_time": "2023-01-31T13:41:46.418483",
     "status": "completed"
    },
    "tags": []
   },
   "outputs": [
    {
     "name": "stdout",
     "output_type": "stream",
     "text": [
      "Setup Complete\n"
     ]
    }
   ],
   "source": [
    "# Code you have previously used to load data\n",
    "import pandas as pd\n",
    "\n",
    "# Path of the file to read\n",
    "iowa_file_path = '../input/home-data-for-ml-course/train.csv'\n",
    "\n",
    "home_data = pd.read_csv(iowa_file_path)\n",
    "\n",
    "# Set up code checking\n",
    "from learntools.core import binder\n",
    "binder.bind(globals())\n",
    "from learntools.machine_learning.ex3 import *\n",
    "\n",
    "print(\"Setup Complete\")"
   ]
  },
  {
   "cell_type": "markdown",
   "id": "0f7c9d6e",
   "metadata": {
    "papermill": {
     "duration": 0.004827,
     "end_time": "2023-01-31T13:41:47.842331",
     "exception": false,
     "start_time": "2023-01-31T13:41:47.837504",
     "status": "completed"
    },
    "tags": []
   },
   "source": [
    "# Exercises\n",
    "\n",
    "## Step 1: Specify Prediction Target\n",
    "Select the target variable, which corresponds to the sales price. Save this to a new variable called `y`. You'll need to print a list of the columns to find the name of the column you need.\n"
   ]
  },
  {
   "cell_type": "code",
   "execution_count": 2,
   "id": "e2acc2a3",
   "metadata": {
    "execution": {
     "iopub.execute_input": "2023-01-31T13:41:47.854479Z",
     "iopub.status.busy": "2023-01-31T13:41:47.853828Z",
     "iopub.status.idle": "2023-01-31T13:41:47.888684Z",
     "shell.execute_reply": "2023-01-31T13:41:47.887414Z"
    },
    "papermill": {
     "duration": 0.043909,
     "end_time": "2023-01-31T13:41:47.891226",
     "exception": false,
     "start_time": "2023-01-31T13:41:47.847317",
     "status": "completed"
    },
    "tags": []
   },
   "outputs": [
    {
     "data": {
      "text/plain": [
       "Index(['Id', 'MSSubClass', 'MSZoning', 'LotFrontage', 'LotArea', 'Street',\n",
       "       'Alley', 'LotShape', 'LandContour', 'Utilities', 'LotConfig',\n",
       "       'LandSlope', 'Neighborhood', 'Condition1', 'Condition2', 'BldgType',\n",
       "       'HouseStyle', 'OverallQual', 'OverallCond', 'YearBuilt', 'YearRemodAdd',\n",
       "       'RoofStyle', 'RoofMatl', 'Exterior1st', 'Exterior2nd', 'MasVnrType',\n",
       "       'MasVnrArea', 'ExterQual', 'ExterCond', 'Foundation', 'BsmtQual',\n",
       "       'BsmtCond', 'BsmtExposure', 'BsmtFinType1', 'BsmtFinSF1',\n",
       "       'BsmtFinType2', 'BsmtFinSF2', 'BsmtUnfSF', 'TotalBsmtSF', 'Heating',\n",
       "       'HeatingQC', 'CentralAir', 'Electrical', '1stFlrSF', '2ndFlrSF',\n",
       "       'LowQualFinSF', 'GrLivArea', 'BsmtFullBath', 'BsmtHalfBath', 'FullBath',\n",
       "       'HalfBath', 'BedroomAbvGr', 'KitchenAbvGr', 'KitchenQual',\n",
       "       'TotRmsAbvGrd', 'Functional', 'Fireplaces', 'FireplaceQu', 'GarageType',\n",
       "       'GarageYrBlt', 'GarageFinish', 'GarageCars', 'GarageArea', 'GarageQual',\n",
       "       'GarageCond', 'PavedDrive', 'WoodDeckSF', 'OpenPorchSF',\n",
       "       'EnclosedPorch', '3SsnPorch', 'ScreenPorch', 'PoolArea', 'PoolQC',\n",
       "       'Fence', 'MiscFeature', 'MiscVal', 'MoSold', 'YrSold', 'SaleType',\n",
       "       'SaleCondition', 'SalePrice'],\n",
       "      dtype='object')"
      ]
     },
     "execution_count": 2,
     "metadata": {},
     "output_type": "execute_result"
    }
   ],
   "source": [
    "# print the list of columns in the dataset to find the name of the prediction target\n",
    "home_data = pd.read_csv(iowa_file_path)\n",
    "home_data.columns"
   ]
  },
  {
   "cell_type": "code",
   "execution_count": 3,
   "id": "7c3b2c04",
   "metadata": {
    "execution": {
     "iopub.execute_input": "2023-01-31T13:41:47.904586Z",
     "iopub.status.busy": "2023-01-31T13:41:47.903306Z",
     "iopub.status.idle": "2023-01-31T13:41:47.918725Z",
     "shell.execute_reply": "2023-01-31T13:41:47.917431Z"
    },
    "papermill": {
     "duration": 0.024379,
     "end_time": "2023-01-31T13:41:47.921094",
     "exception": false,
     "start_time": "2023-01-31T13:41:47.896715",
     "status": "completed"
    },
    "tags": []
   },
   "outputs": [
    {
     "data": {
      "application/javascript": [
       "parent.postMessage({\"jupyterEvent\": \"custom.exercise_interaction\", \"data\": {\"outcomeType\": 1, \"valueTowardsCompletion\": 0.25, \"interactionType\": 1, \"questionType\": 2, \"questionId\": \"1_SetTarget\", \"learnToolsVersion\": \"0.3.4\", \"failureMessage\": \"\", \"exceptionClass\": \"\", \"trace\": \"\"}}, \"*\")"
      ],
      "text/plain": [
       "<IPython.core.display.Javascript object>"
      ]
     },
     "metadata": {},
     "output_type": "display_data"
    },
    {
     "data": {
      "text/markdown": [
       "<span style=\"color:#33cc33\">Correct</span>"
      ],
      "text/plain": [
       "Correct"
      ]
     },
     "metadata": {},
     "output_type": "display_data"
    }
   ],
   "source": [
    "y = home_data.SalePrice\n",
    "\n",
    "# Check your answer\n",
    "step_1.check()"
   ]
  },
  {
   "cell_type": "code",
   "execution_count": 4,
   "id": "289a415f",
   "metadata": {
    "collapsed": true,
    "execution": {
     "iopub.execute_input": "2023-01-31T13:41:47.935031Z",
     "iopub.status.busy": "2023-01-31T13:41:47.934209Z",
     "iopub.status.idle": "2023-01-31T13:41:47.938583Z",
     "shell.execute_reply": "2023-01-31T13:41:47.937738Z"
    },
    "jupyter": {
     "outputs_hidden": true
    },
    "papermill": {
     "duration": 0.013881,
     "end_time": "2023-01-31T13:41:47.940774",
     "exception": false,
     "start_time": "2023-01-31T13:41:47.926893",
     "status": "completed"
    },
    "tags": []
   },
   "outputs": [],
   "source": [
    "# The lines below will show you a hint or the solution.\n",
    "# step_1.hint() \n",
    "# step_1.solution()"
   ]
  },
  {
   "cell_type": "markdown",
   "id": "bf9d8d0d",
   "metadata": {
    "papermill": {
     "duration": 0.005336,
     "end_time": "2023-01-31T13:41:47.951732",
     "exception": false,
     "start_time": "2023-01-31T13:41:47.946396",
     "status": "completed"
    },
    "tags": []
   },
   "source": [
    "## Step 2: Create X\n",
    "Now you will create a DataFrame called `X` holding the predictive features.\n",
    "\n",
    "Since you want only some columns from the original data, you'll first create a list with the names of the columns you want in `X`.\n",
    "\n",
    "You'll use just the following columns in the list (you can copy and paste the whole list to save some typing, though you'll still need to add quotes):\n",
    "  * LotArea\n",
    "  * YearBuilt\n",
    "  * 1stFlrSF\n",
    "  * 2ndFlrSF\n",
    "  * FullBath\n",
    "  * BedroomAbvGr\n",
    "  * TotRmsAbvGrd\n",
    "\n",
    "After you've created that list of features, use it to create the DataFrame that you'll use to fit the model."
   ]
  },
  {
   "cell_type": "code",
   "execution_count": 5,
   "id": "f35205eb",
   "metadata": {
    "execution": {
     "iopub.execute_input": "2023-01-31T13:41:47.965448Z",
     "iopub.status.busy": "2023-01-31T13:41:47.964138Z",
     "iopub.status.idle": "2023-01-31T13:41:47.978182Z",
     "shell.execute_reply": "2023-01-31T13:41:47.976966Z"
    },
    "papermill": {
     "duration": 0.023369,
     "end_time": "2023-01-31T13:41:47.980690",
     "exception": false,
     "start_time": "2023-01-31T13:41:47.957321",
     "status": "completed"
    },
    "tags": []
   },
   "outputs": [
    {
     "data": {
      "application/javascript": [
       "parent.postMessage({\"jupyterEvent\": \"custom.exercise_interaction\", \"data\": {\"outcomeType\": 1, \"valueTowardsCompletion\": 0.25, \"interactionType\": 1, \"questionType\": 2, \"questionId\": \"2_SelectPredictionData\", \"learnToolsVersion\": \"0.3.4\", \"failureMessage\": \"\", \"exceptionClass\": \"\", \"trace\": \"\"}}, \"*\")"
      ],
      "text/plain": [
       "<IPython.core.display.Javascript object>"
      ]
     },
     "metadata": {},
     "output_type": "display_data"
    },
    {
     "data": {
      "text/markdown": [
       "<span style=\"color:#33cc33\">Correct</span>"
      ],
      "text/plain": [
       "Correct"
      ]
     },
     "metadata": {},
     "output_type": "display_data"
    }
   ],
   "source": [
    "# Create the list of features below\n",
    "feature_names = ['LotArea','YearBuilt', '1stFlrSF', '2ndFlrSF', 'FullBath', 'BedroomAbvGr', 'TotRmsAbvGrd']\n",
    "# Select data corresponding to features in feature_names\n",
    "X = home_data[feature_names]\n",
    "\n",
    "# Check your answer\n",
    "step_2.check()"
   ]
  },
  {
   "cell_type": "code",
   "execution_count": 6,
   "id": "be88c60f",
   "metadata": {
    "collapsed": true,
    "execution": {
     "iopub.execute_input": "2023-01-31T13:41:47.993936Z",
     "iopub.status.busy": "2023-01-31T13:41:47.993490Z",
     "iopub.status.idle": "2023-01-31T13:41:47.998432Z",
     "shell.execute_reply": "2023-01-31T13:41:47.997029Z"
    },
    "jupyter": {
     "outputs_hidden": true
    },
    "papermill": {
     "duration": 0.014399,
     "end_time": "2023-01-31T13:41:48.000864",
     "exception": false,
     "start_time": "2023-01-31T13:41:47.986465",
     "status": "completed"
    },
    "tags": []
   },
   "outputs": [],
   "source": [
    "# step_2.hint()\n",
    "# step_2.solution()"
   ]
  },
  {
   "cell_type": "markdown",
   "id": "f1e98741",
   "metadata": {
    "papermill": {
     "duration": 0.005424,
     "end_time": "2023-01-31T13:41:48.012106",
     "exception": false,
     "start_time": "2023-01-31T13:41:48.006682",
     "status": "completed"
    },
    "tags": []
   },
   "source": [
    "## Review Data\n",
    "Before building a model, take a quick look at **X** to verify it looks sensible"
   ]
  },
  {
   "cell_type": "code",
   "execution_count": 7,
   "id": "9ed7c2b6",
   "metadata": {
    "execution": {
     "iopub.execute_input": "2023-01-31T13:41:48.025333Z",
     "iopub.status.busy": "2023-01-31T13:41:48.024890Z",
     "iopub.status.idle": "2023-01-31T13:41:48.063131Z",
     "shell.execute_reply": "2023-01-31T13:41:48.061479Z"
    },
    "papermill": {
     "duration": 0.047925,
     "end_time": "2023-01-31T13:41:48.065838",
     "exception": false,
     "start_time": "2023-01-31T13:41:48.017913",
     "status": "completed"
    },
    "tags": []
   },
   "outputs": [
    {
     "name": "stdout",
     "output_type": "stream",
     "text": [
      "             LotArea    YearBuilt     1stFlrSF     2ndFlrSF     FullBath  \\\n",
      "count    1460.000000  1460.000000  1460.000000  1460.000000  1460.000000   \n",
      "mean    10516.828082  1971.267808  1162.626712   346.992466     1.565068   \n",
      "std      9981.264932    30.202904   386.587738   436.528436     0.550916   \n",
      "min      1300.000000  1872.000000   334.000000     0.000000     0.000000   \n",
      "25%      7553.500000  1954.000000   882.000000     0.000000     1.000000   \n",
      "50%      9478.500000  1973.000000  1087.000000     0.000000     2.000000   \n",
      "75%     11601.500000  2000.000000  1391.250000   728.000000     2.000000   \n",
      "max    215245.000000  2010.000000  4692.000000  2065.000000     3.000000   \n",
      "\n",
      "       BedroomAbvGr  TotRmsAbvGrd  \n",
      "count   1460.000000   1460.000000  \n",
      "mean       2.866438      6.517808  \n",
      "std        0.815778      1.625393  \n",
      "min        0.000000      2.000000  \n",
      "25%        2.000000      5.000000  \n",
      "50%        3.000000      6.000000  \n",
      "75%        3.000000      7.000000  \n",
      "max        8.000000     14.000000  \n",
      "----------------------------------------------------------------------------------\n",
      "   LotArea  YearBuilt  1stFlrSF  2ndFlrSF  FullBath  BedroomAbvGr  \\\n",
      "0     8450       2003       856       854         2             3   \n",
      "1     9600       1976      1262         0         2             3   \n",
      "2    11250       2001       920       866         2             3   \n",
      "3     9550       1915       961       756         1             3   \n",
      "4    14260       2000      1145      1053         2             4   \n",
      "\n",
      "   TotRmsAbvGrd  \n",
      "0             8  \n",
      "1             6  \n",
      "2             6  \n",
      "3             7  \n",
      "4             9  \n"
     ]
    }
   ],
   "source": [
    "# Review data\n",
    "# print description or statistics from X\n",
    "print(X.describe())\n",
    "print('----------------------------------------------------------------------------------')\n",
    "# print the top few lines\n",
    "print(X.head())"
   ]
  },
  {
   "cell_type": "markdown",
   "id": "dfb5097a",
   "metadata": {
    "papermill": {
     "duration": 0.005657,
     "end_time": "2023-01-31T13:41:48.077437",
     "exception": false,
     "start_time": "2023-01-31T13:41:48.071780",
     "status": "completed"
    },
    "tags": []
   },
   "source": [
    "## Step 3: Specify and Fit Model\n",
    "Create a `DecisionTreeRegressor` and save it iowa_model. Ensure you've done the relevant import from sklearn to run this command.\n",
    "\n",
    "Then fit the model you just created using the data in `X` and `y` that you saved above."
   ]
  },
  {
   "cell_type": "code",
   "execution_count": 8,
   "id": "6f0885e3",
   "metadata": {
    "execution": {
     "iopub.execute_input": "2023-01-31T13:41:48.091864Z",
     "iopub.status.busy": "2023-01-31T13:41:48.091416Z",
     "iopub.status.idle": "2023-01-31T13:41:48.110709Z",
     "shell.execute_reply": "2023-01-31T13:41:48.109545Z"
    },
    "papermill": {
     "duration": 0.029834,
     "end_time": "2023-01-31T13:41:48.113208",
     "exception": false,
     "start_time": "2023-01-31T13:41:48.083374",
     "status": "completed"
    },
    "tags": []
   },
   "outputs": [
    {
     "data": {
      "application/javascript": [
       "parent.postMessage({\"jupyterEvent\": \"custom.exercise_interaction\", \"data\": {\"outcomeType\": 1, \"valueTowardsCompletion\": 0.25, \"interactionType\": 1, \"questionType\": 2, \"questionId\": \"3_CreateModel\", \"learnToolsVersion\": \"0.3.4\", \"failureMessage\": \"\", \"exceptionClass\": \"\", \"trace\": \"\"}}, \"*\")"
      ],
      "text/plain": [
       "<IPython.core.display.Javascript object>"
      ]
     },
     "metadata": {},
     "output_type": "display_data"
    },
    {
     "data": {
      "text/markdown": [
       "<span style=\"color:#33cc33\">Correct</span>"
      ],
      "text/plain": [
       "Correct"
      ]
     },
     "metadata": {},
     "output_type": "display_data"
    }
   ],
   "source": [
    "from sklearn.tree import DecisionTreeRegressor\n",
    "#specify the model. \n",
    "#For model reproducibility, set a numeric value for random_state when specifying the model\n",
    "iowa_model = DecisionTreeRegressor(random_state = 2)\n",
    "\n",
    "# Fit the model\n",
    "iowa_model.fit(X, y)\n",
    "\n",
    "# Check your answer\n",
    "step_3.check()"
   ]
  },
  {
   "cell_type": "code",
   "execution_count": 9,
   "id": "a08a3195",
   "metadata": {
    "collapsed": true,
    "execution": {
     "iopub.execute_input": "2023-01-31T13:41:48.128177Z",
     "iopub.status.busy": "2023-01-31T13:41:48.127090Z",
     "iopub.status.idle": "2023-01-31T13:41:48.131453Z",
     "shell.execute_reply": "2023-01-31T13:41:48.130656Z"
    },
    "jupyter": {
     "outputs_hidden": true
    },
    "papermill": {
     "duration": 0.014011,
     "end_time": "2023-01-31T13:41:48.133489",
     "exception": false,
     "start_time": "2023-01-31T13:41:48.119478",
     "status": "completed"
    },
    "tags": []
   },
   "outputs": [],
   "source": [
    "# step_3.hint()\n",
    "# step_3.solution()"
   ]
  },
  {
   "cell_type": "markdown",
   "id": "b9a6d038",
   "metadata": {
    "papermill": {
     "duration": 0.005823,
     "end_time": "2023-01-31T13:41:48.145621",
     "exception": false,
     "start_time": "2023-01-31T13:41:48.139798",
     "status": "completed"
    },
    "tags": []
   },
   "source": [
    "## Step 4: Make Predictions\n",
    "Make predictions with the model's `predict` command using `X` as the data. Save the results to a variable called `predictions`."
   ]
  },
  {
   "cell_type": "code",
   "execution_count": 10,
   "id": "fd2aa306",
   "metadata": {
    "execution": {
     "iopub.execute_input": "2023-01-31T13:41:48.160335Z",
     "iopub.status.busy": "2023-01-31T13:41:48.159123Z",
     "iopub.status.idle": "2023-01-31T13:41:48.175351Z",
     "shell.execute_reply": "2023-01-31T13:41:48.173959Z"
    },
    "papermill": {
     "duration": 0.026252,
     "end_time": "2023-01-31T13:41:48.178078",
     "exception": false,
     "start_time": "2023-01-31T13:41:48.151826",
     "status": "completed"
    },
    "tags": []
   },
   "outputs": [
    {
     "name": "stdout",
     "output_type": "stream",
     "text": [
      "[208500. 181500. 223500. ... 266500. 142125. 147500.]\n"
     ]
    },
    {
     "data": {
      "application/javascript": [
       "parent.postMessage({\"jupyterEvent\": \"custom.exercise_interaction\", \"data\": {\"outcomeType\": 1, \"valueTowardsCompletion\": 0.25, \"interactionType\": 1, \"questionType\": 2, \"questionId\": \"4_MakePredictions\", \"learnToolsVersion\": \"0.3.4\", \"failureMessage\": \"\", \"exceptionClass\": \"\", \"trace\": \"\"}}, \"*\")"
      ],
      "text/plain": [
       "<IPython.core.display.Javascript object>"
      ]
     },
     "metadata": {},
     "output_type": "display_data"
    },
    {
     "data": {
      "text/markdown": [
       "<span style=\"color:#33cc33\">Correct</span>"
      ],
      "text/plain": [
       "Correct"
      ]
     },
     "metadata": {},
     "output_type": "display_data"
    }
   ],
   "source": [
    "predictions = iowa_model.predict(X)\n",
    "print(predictions)\n",
    "\n",
    "# Check your answer\n",
    "step_4.check()"
   ]
  },
  {
   "cell_type": "code",
   "execution_count": 11,
   "id": "8abf7f29",
   "metadata": {
    "collapsed": true,
    "execution": {
     "iopub.execute_input": "2023-01-31T13:41:48.194207Z",
     "iopub.status.busy": "2023-01-31T13:41:48.193765Z",
     "iopub.status.idle": "2023-01-31T13:41:48.198841Z",
     "shell.execute_reply": "2023-01-31T13:41:48.197209Z"
    },
    "jupyter": {
     "outputs_hidden": true
    },
    "papermill": {
     "duration": 0.016385,
     "end_time": "2023-01-31T13:41:48.201551",
     "exception": false,
     "start_time": "2023-01-31T13:41:48.185166",
     "status": "completed"
    },
    "tags": []
   },
   "outputs": [],
   "source": [
    "# step_4.hint()\n",
    "# step_4.solution()"
   ]
  },
  {
   "cell_type": "markdown",
   "id": "31bc3053",
   "metadata": {
    "papermill": {
     "duration": 0.007166,
     "end_time": "2023-01-31T13:41:48.215954",
     "exception": false,
     "start_time": "2023-01-31T13:41:48.208788",
     "status": "completed"
    },
    "tags": []
   },
   "source": [
    "## Think About Your Results\n",
    "\n",
    "Use the `head` method to compare the top few predictions to the actual home values (in `y`) for those same homes. Anything surprising?\n"
   ]
  },
  {
   "cell_type": "code",
   "execution_count": 12,
   "id": "f70a780a",
   "metadata": {
    "execution": {
     "iopub.execute_input": "2023-01-31T13:41:48.232275Z",
     "iopub.status.busy": "2023-01-31T13:41:48.231292Z",
     "iopub.status.idle": "2023-01-31T13:41:48.241831Z",
     "shell.execute_reply": "2023-01-31T13:41:48.240610Z"
    },
    "papermill": {
     "duration": 0.022384,
     "end_time": "2023-01-31T13:41:48.245670",
     "exception": false,
     "start_time": "2023-01-31T13:41:48.223286",
     "status": "completed"
    },
    "tags": []
   },
   "outputs": [
    {
     "name": "stdout",
     "output_type": "stream",
     "text": [
      "0    208500\n",
      "1    181500\n",
      "2    223500\n",
      "3    140000\n",
      "4    250000\n",
      "Name: SalePrice, dtype: int64\n",
      "[208500. 181500. 223500. 140000. 250000.]\n"
     ]
    }
   ],
   "source": [
    "# You can write code in this cell\n",
    "print(y.head())\n",
    "print(iowa_model.predict(X)[:5])"
   ]
  },
  {
   "cell_type": "markdown",
   "id": "be195b7a",
   "metadata": {
    "papermill": {
     "duration": 0.006384,
     "end_time": "2023-01-31T13:41:48.258944",
     "exception": false,
     "start_time": "2023-01-31T13:41:48.252560",
     "status": "completed"
    },
    "tags": []
   },
   "source": [
    "It's natural to ask how accurate the model's predictions will be and how you can improve that. That will be you're next step.\n",
    "\n",
    "# Keep Going\n",
    "\n",
    "You are ready for **[Model Validation](https://www.kaggle.com/dansbecker/model-validation).**\n"
   ]
  },
  {
   "cell_type": "markdown",
   "id": "1810ad13",
   "metadata": {
    "papermill": {
     "duration": 0.006207,
     "end_time": "2023-01-31T13:41:48.271808",
     "exception": false,
     "start_time": "2023-01-31T13:41:48.265601",
     "status": "completed"
    },
    "tags": []
   },
   "source": [
    "---\n",
    "\n",
    "\n",
    "\n",
    "\n",
    "*Have questions or comments? Visit the [course discussion forum](https://www.kaggle.com/learn/intro-to-machine-learning/discussion) to chat with other learners.*"
   ]
  }
 ],
 "metadata": {
  "kernelspec": {
   "display_name": "Python 3",
   "language": "python",
   "name": "python3"
  },
  "language_info": {
   "codemirror_mode": {
    "name": "ipython",
    "version": 3
   },
   "file_extension": ".py",
   "mimetype": "text/x-python",
   "name": "python",
   "nbconvert_exporter": "python",
   "pygments_lexer": "ipython3",
   "version": "3.7.12"
  },
  "papermill": {
   "default_parameters": {},
   "duration": 11.30239,
   "end_time": "2023-01-31T13:41:49.000186",
   "environment_variables": {},
   "exception": null,
   "input_path": "__notebook__.ipynb",
   "output_path": "__notebook__.ipynb",
   "parameters": {},
   "start_time": "2023-01-31T13:41:37.697796",
   "version": "2.3.4"
  }
 },
 "nbformat": 4,
 "nbformat_minor": 5
}
