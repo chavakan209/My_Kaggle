{
 "cells": [
  {
   "cell_type": "markdown",
   "id": "4d5abd34",
   "metadata": {
    "papermill": {
     "duration": 0.007172,
     "end_time": "2023-02-05T06:22:02.146460",
     "exception": false,
     "start_time": "2023-02-05T06:22:02.139288",
     "status": "completed"
    },
    "tags": []
   },
   "source": [
    "**This notebook is an exercise in the [Pandas](https://www.kaggle.com/learn/pandas) course.  You can reference the tutorial at [this link](https://www.kaggle.com/residentmario/summary-functions-and-maps).**\n",
    "\n",
    "---\n"
   ]
  },
  {
   "cell_type": "markdown",
   "id": "5abe9639",
   "metadata": {
    "papermill": {
     "duration": 0.005609,
     "end_time": "2023-02-05T06:22:02.158184",
     "exception": false,
     "start_time": "2023-02-05T06:22:02.152575",
     "status": "completed"
    },
    "tags": []
   },
   "source": [
    "# Introduction\n",
    "\n",
    "Now you are ready to get a deeper understanding of your data.\n",
    "\n",
    "Run the following cell to load your data and some utility functions (including code to check your answers)."
   ]
  },
  {
   "cell_type": "code",
   "execution_count": 1,
   "id": "3ead9f70",
   "metadata": {
    "execution": {
     "iopub.execute_input": "2023-02-05T06:22:02.172473Z",
     "iopub.status.busy": "2023-02-05T06:22:02.171640Z",
     "iopub.status.idle": "2023-02-05T06:22:09.237860Z",
     "shell.execute_reply": "2023-02-05T06:22:09.236179Z"
    },
    "papermill": {
     "duration": 7.076967,
     "end_time": "2023-02-05T06:22:09.241024",
     "exception": false,
     "start_time": "2023-02-05T06:22:02.164057",
     "status": "completed"
    },
    "tags": []
   },
   "outputs": [
    {
     "name": "stdout",
     "output_type": "stream",
     "text": [
      "Setup complete.\n"
     ]
    },
    {
     "data": {
      "text/html": [
       "<div>\n",
       "<style scoped>\n",
       "    .dataframe tbody tr th:only-of-type {\n",
       "        vertical-align: middle;\n",
       "    }\n",
       "\n",
       "    .dataframe tbody tr th {\n",
       "        vertical-align: top;\n",
       "    }\n",
       "\n",
       "    .dataframe thead th {\n",
       "        text-align: right;\n",
       "    }\n",
       "</style>\n",
       "<table border=\"1\" class=\"dataframe\">\n",
       "  <thead>\n",
       "    <tr style=\"text-align: right;\">\n",
       "      <th></th>\n",
       "      <th>country</th>\n",
       "      <th>description</th>\n",
       "      <th>designation</th>\n",
       "      <th>points</th>\n",
       "      <th>price</th>\n",
       "      <th>province</th>\n",
       "      <th>region_1</th>\n",
       "      <th>region_2</th>\n",
       "      <th>taster_name</th>\n",
       "      <th>taster_twitter_handle</th>\n",
       "      <th>title</th>\n",
       "      <th>variety</th>\n",
       "      <th>winery</th>\n",
       "    </tr>\n",
       "  </thead>\n",
       "  <tbody>\n",
       "    <tr>\n",
       "      <th>0</th>\n",
       "      <td>Italy</td>\n",
       "      <td>Aromas include tropical fruit, broom, brimston...</td>\n",
       "      <td>Vulkà Bianco</td>\n",
       "      <td>87</td>\n",
       "      <td>NaN</td>\n",
       "      <td>Sicily &amp; Sardinia</td>\n",
       "      <td>Etna</td>\n",
       "      <td>NaN</td>\n",
       "      <td>Kerin O’Keefe</td>\n",
       "      <td>@kerinokeefe</td>\n",
       "      <td>Nicosia 2013 Vulkà Bianco  (Etna)</td>\n",
       "      <td>White Blend</td>\n",
       "      <td>Nicosia</td>\n",
       "    </tr>\n",
       "    <tr>\n",
       "      <th>1</th>\n",
       "      <td>Portugal</td>\n",
       "      <td>This is ripe and fruity, a wine that is smooth...</td>\n",
       "      <td>Avidagos</td>\n",
       "      <td>87</td>\n",
       "      <td>15.0</td>\n",
       "      <td>Douro</td>\n",
       "      <td>NaN</td>\n",
       "      <td>NaN</td>\n",
       "      <td>Roger Voss</td>\n",
       "      <td>@vossroger</td>\n",
       "      <td>Quinta dos Avidagos 2011 Avidagos Red (Douro)</td>\n",
       "      <td>Portuguese Red</td>\n",
       "      <td>Quinta dos Avidagos</td>\n",
       "    </tr>\n",
       "    <tr>\n",
       "      <th>2</th>\n",
       "      <td>US</td>\n",
       "      <td>Tart and snappy, the flavors of lime flesh and...</td>\n",
       "      <td>NaN</td>\n",
       "      <td>87</td>\n",
       "      <td>14.0</td>\n",
       "      <td>Oregon</td>\n",
       "      <td>Willamette Valley</td>\n",
       "      <td>Willamette Valley</td>\n",
       "      <td>Paul Gregutt</td>\n",
       "      <td>@paulgwine</td>\n",
       "      <td>Rainstorm 2013 Pinot Gris (Willamette Valley)</td>\n",
       "      <td>Pinot Gris</td>\n",
       "      <td>Rainstorm</td>\n",
       "    </tr>\n",
       "    <tr>\n",
       "      <th>3</th>\n",
       "      <td>US</td>\n",
       "      <td>Pineapple rind, lemon pith and orange blossom ...</td>\n",
       "      <td>Reserve Late Harvest</td>\n",
       "      <td>87</td>\n",
       "      <td>13.0</td>\n",
       "      <td>Michigan</td>\n",
       "      <td>Lake Michigan Shore</td>\n",
       "      <td>NaN</td>\n",
       "      <td>Alexander Peartree</td>\n",
       "      <td>NaN</td>\n",
       "      <td>St. Julian 2013 Reserve Late Harvest Riesling ...</td>\n",
       "      <td>Riesling</td>\n",
       "      <td>St. Julian</td>\n",
       "    </tr>\n",
       "    <tr>\n",
       "      <th>4</th>\n",
       "      <td>US</td>\n",
       "      <td>Much like the regular bottling from 2012, this...</td>\n",
       "      <td>Vintner's Reserve Wild Child Block</td>\n",
       "      <td>87</td>\n",
       "      <td>65.0</td>\n",
       "      <td>Oregon</td>\n",
       "      <td>Willamette Valley</td>\n",
       "      <td>Willamette Valley</td>\n",
       "      <td>Paul Gregutt</td>\n",
       "      <td>@paulgwine</td>\n",
       "      <td>Sweet Cheeks 2012 Vintner's Reserve Wild Child...</td>\n",
       "      <td>Pinot Noir</td>\n",
       "      <td>Sweet Cheeks</td>\n",
       "    </tr>\n",
       "  </tbody>\n",
       "</table>\n",
       "</div>"
      ],
      "text/plain": [
       "    country                                        description  \\\n",
       "0     Italy  Aromas include tropical fruit, broom, brimston...   \n",
       "1  Portugal  This is ripe and fruity, a wine that is smooth...   \n",
       "2        US  Tart and snappy, the flavors of lime flesh and...   \n",
       "3        US  Pineapple rind, lemon pith and orange blossom ...   \n",
       "4        US  Much like the regular bottling from 2012, this...   \n",
       "\n",
       "                          designation  points  price           province  \\\n",
       "0                        Vulkà Bianco      87    NaN  Sicily & Sardinia   \n",
       "1                            Avidagos      87   15.0              Douro   \n",
       "2                                 NaN      87   14.0             Oregon   \n",
       "3                Reserve Late Harvest      87   13.0           Michigan   \n",
       "4  Vintner's Reserve Wild Child Block      87   65.0             Oregon   \n",
       "\n",
       "              region_1           region_2         taster_name  \\\n",
       "0                 Etna                NaN       Kerin O’Keefe   \n",
       "1                  NaN                NaN          Roger Voss   \n",
       "2    Willamette Valley  Willamette Valley        Paul Gregutt   \n",
       "3  Lake Michigan Shore                NaN  Alexander Peartree   \n",
       "4    Willamette Valley  Willamette Valley        Paul Gregutt   \n",
       "\n",
       "  taster_twitter_handle                                              title  \\\n",
       "0          @kerinokeefe                  Nicosia 2013 Vulkà Bianco  (Etna)   \n",
       "1            @vossroger      Quinta dos Avidagos 2011 Avidagos Red (Douro)   \n",
       "2           @paulgwine       Rainstorm 2013 Pinot Gris (Willamette Valley)   \n",
       "3                   NaN  St. Julian 2013 Reserve Late Harvest Riesling ...   \n",
       "4           @paulgwine   Sweet Cheeks 2012 Vintner's Reserve Wild Child...   \n",
       "\n",
       "          variety               winery  \n",
       "0     White Blend              Nicosia  \n",
       "1  Portuguese Red  Quinta dos Avidagos  \n",
       "2      Pinot Gris            Rainstorm  \n",
       "3        Riesling           St. Julian  \n",
       "4      Pinot Noir         Sweet Cheeks  "
      ]
     },
     "execution_count": 1,
     "metadata": {},
     "output_type": "execute_result"
    }
   ],
   "source": [
    "import pandas as pd\n",
    "pd.set_option(\"display.max_rows\", 5)\n",
    "reviews = pd.read_csv(\"../input/wine-reviews/winemag-data-130k-v2.csv\", index_col=0)\n",
    "\n",
    "from learntools.core import binder; binder.bind(globals())\n",
    "from learntools.pandas.summary_functions_and_maps import *\n",
    "print(\"Setup complete.\")\n",
    "\n",
    "reviews.head()"
   ]
  },
  {
   "cell_type": "markdown",
   "id": "ac75257b",
   "metadata": {
    "papermill": {
     "duration": 0.006133,
     "end_time": "2023-02-05T06:22:09.253812",
     "exception": false,
     "start_time": "2023-02-05T06:22:09.247679",
     "status": "completed"
    },
    "tags": []
   },
   "source": [
    "# Exercises"
   ]
  },
  {
   "cell_type": "markdown",
   "id": "c55f06f6",
   "metadata": {
    "papermill": {
     "duration": 0.006132,
     "end_time": "2023-02-05T06:22:09.266401",
     "exception": false,
     "start_time": "2023-02-05T06:22:09.260269",
     "status": "completed"
    },
    "tags": []
   },
   "source": [
    "## 1.\n",
    "\n",
    "What is the median of the `points` column in the `reviews` DataFrame?"
   ]
  },
  {
   "cell_type": "code",
   "execution_count": 2,
   "id": "090aa257",
   "metadata": {
    "execution": {
     "iopub.execute_input": "2023-02-05T06:22:09.281348Z",
     "iopub.status.busy": "2023-02-05T06:22:09.280857Z",
     "iopub.status.idle": "2023-02-05T06:22:09.292867Z",
     "shell.execute_reply": "2023-02-05T06:22:09.291611Z"
    },
    "papermill": {
     "duration": 0.0225,
     "end_time": "2023-02-05T06:22:09.295369",
     "exception": false,
     "start_time": "2023-02-05T06:22:09.272869",
     "status": "completed"
    },
    "tags": []
   },
   "outputs": [
    {
     "data": {
      "application/javascript": [
       "parent.postMessage({\"jupyterEvent\": \"custom.exercise_interaction\", \"data\": {\"outcomeType\": 1, \"valueTowardsCompletion\": 0.14285714285714285, \"interactionType\": 1, \"questionType\": 1, \"questionId\": \"1_MedianPoints\", \"learnToolsVersion\": \"0.3.4\", \"failureMessage\": \"\", \"exceptionClass\": \"\", \"trace\": \"\"}}, \"*\")"
      ],
      "text/plain": [
       "<IPython.core.display.Javascript object>"
      ]
     },
     "metadata": {},
     "output_type": "display_data"
    },
    {
     "data": {
      "text/markdown": [
       "<span style=\"color:#33cc33\">Correct</span>"
      ],
      "text/plain": [
       "Correct"
      ]
     },
     "metadata": {},
     "output_type": "display_data"
    }
   ],
   "source": [
    "median_points = reviews.points.median()\n",
    "\n",
    "# Check your answer\n",
    "q1.check()"
   ]
  },
  {
   "cell_type": "code",
   "execution_count": 3,
   "id": "69334995",
   "metadata": {
    "execution": {
     "iopub.execute_input": "2023-02-05T06:22:09.310552Z",
     "iopub.status.busy": "2023-02-05T06:22:09.310120Z",
     "iopub.status.idle": "2023-02-05T06:22:09.314444Z",
     "shell.execute_reply": "2023-02-05T06:22:09.313314Z"
    },
    "papermill": {
     "duration": 0.014777,
     "end_time": "2023-02-05T06:22:09.316772",
     "exception": false,
     "start_time": "2023-02-05T06:22:09.301995",
     "status": "completed"
    },
    "tags": []
   },
   "outputs": [],
   "source": [
    "#q1.hint()\n",
    "#q1.solution()"
   ]
  },
  {
   "cell_type": "markdown",
   "id": "ea4d9d7c",
   "metadata": {
    "papermill": {
     "duration": 0.006333,
     "end_time": "2023-02-05T06:22:09.329669",
     "exception": false,
     "start_time": "2023-02-05T06:22:09.323336",
     "status": "completed"
    },
    "tags": []
   },
   "source": [
    "## 2. \n",
    "What countries are represented in the dataset? (Your answer should not include any duplicates.)"
   ]
  },
  {
   "cell_type": "code",
   "execution_count": 4,
   "id": "c2d95c41",
   "metadata": {
    "execution": {
     "iopub.execute_input": "2023-02-05T06:22:09.344735Z",
     "iopub.status.busy": "2023-02-05T06:22:09.344329Z",
     "iopub.status.idle": "2023-02-05T06:22:09.360780Z",
     "shell.execute_reply": "2023-02-05T06:22:09.359684Z"
    },
    "papermill": {
     "duration": 0.026779,
     "end_time": "2023-02-05T06:22:09.363073",
     "exception": false,
     "start_time": "2023-02-05T06:22:09.336294",
     "status": "completed"
    },
    "tags": []
   },
   "outputs": [
    {
     "data": {
      "application/javascript": [
       "parent.postMessage({\"jupyterEvent\": \"custom.exercise_interaction\", \"data\": {\"outcomeType\": 1, \"valueTowardsCompletion\": 0.14285714285714285, \"interactionType\": 1, \"questionType\": 2, \"questionId\": \"2_UniqueCountries\", \"learnToolsVersion\": \"0.3.4\", \"failureMessage\": \"\", \"exceptionClass\": \"\", \"trace\": \"\"}}, \"*\")"
      ],
      "text/plain": [
       "<IPython.core.display.Javascript object>"
      ]
     },
     "metadata": {},
     "output_type": "display_data"
    },
    {
     "data": {
      "text/markdown": [
       "<span style=\"color:#33cc33\">Correct</span>"
      ],
      "text/plain": [
       "Correct"
      ]
     },
     "metadata": {},
     "output_type": "display_data"
    }
   ],
   "source": [
    "countries = reviews.country.unique()\n",
    "\n",
    "# Check your answer\n",
    "q2.check()"
   ]
  },
  {
   "cell_type": "code",
   "execution_count": 5,
   "id": "79e98e11",
   "metadata": {
    "execution": {
     "iopub.execute_input": "2023-02-05T06:22:09.378821Z",
     "iopub.status.busy": "2023-02-05T06:22:09.378402Z",
     "iopub.status.idle": "2023-02-05T06:22:09.383316Z",
     "shell.execute_reply": "2023-02-05T06:22:09.382040Z"
    },
    "papermill": {
     "duration": 0.015853,
     "end_time": "2023-02-05T06:22:09.385857",
     "exception": false,
     "start_time": "2023-02-05T06:22:09.370004",
     "status": "completed"
    },
    "tags": []
   },
   "outputs": [],
   "source": [
    "#q2.hint()\n",
    "#q2.solution()"
   ]
  },
  {
   "cell_type": "markdown",
   "id": "097abd4a",
   "metadata": {
    "papermill": {
     "duration": 0.006724,
     "end_time": "2023-02-05T06:22:09.400097",
     "exception": false,
     "start_time": "2023-02-05T06:22:09.393373",
     "status": "completed"
    },
    "tags": []
   },
   "source": [
    "## 3.\n",
    "How often does each country appear in the dataset? Create a Series `reviews_per_country` mapping countries to the count of reviews of wines from that country."
   ]
  },
  {
   "cell_type": "code",
   "execution_count": 6,
   "id": "7f091a03",
   "metadata": {
    "execution": {
     "iopub.execute_input": "2023-02-05T06:22:09.416581Z",
     "iopub.status.busy": "2023-02-05T06:22:09.415847Z",
     "iopub.status.idle": "2023-02-05T06:22:09.432427Z",
     "shell.execute_reply": "2023-02-05T06:22:09.431428Z"
    },
    "papermill": {
     "duration": 0.027515,
     "end_time": "2023-02-05T06:22:09.434797",
     "exception": false,
     "start_time": "2023-02-05T06:22:09.407282",
     "status": "completed"
    },
    "tags": []
   },
   "outputs": [
    {
     "data": {
      "application/javascript": [
       "parent.postMessage({\"jupyterEvent\": \"custom.exercise_interaction\", \"data\": {\"outcomeType\": 1, \"valueTowardsCompletion\": 0.14285714285714285, \"interactionType\": 1, \"questionType\": 1, \"questionId\": \"3_ReviewsPerCountry\", \"learnToolsVersion\": \"0.3.4\", \"failureMessage\": \"\", \"exceptionClass\": \"\", \"trace\": \"\"}}, \"*\")"
      ],
      "text/plain": [
       "<IPython.core.display.Javascript object>"
      ]
     },
     "metadata": {},
     "output_type": "display_data"
    },
    {
     "data": {
      "text/markdown": [
       "<span style=\"color:#33cc33\">Correct</span>"
      ],
      "text/plain": [
       "Correct"
      ]
     },
     "metadata": {},
     "output_type": "display_data"
    }
   ],
   "source": [
    "reviews_per_country = reviews.country.value_counts()\n",
    "\n",
    "# Check your answer\n",
    "q3.check()"
   ]
  },
  {
   "cell_type": "code",
   "execution_count": 7,
   "id": "5cdc3fe2",
   "metadata": {
    "execution": {
     "iopub.execute_input": "2023-02-05T06:22:09.450900Z",
     "iopub.status.busy": "2023-02-05T06:22:09.450455Z",
     "iopub.status.idle": "2023-02-05T06:22:09.455235Z",
     "shell.execute_reply": "2023-02-05T06:22:09.454013Z"
    },
    "papermill": {
     "duration": 0.015771,
     "end_time": "2023-02-05T06:22:09.457608",
     "exception": false,
     "start_time": "2023-02-05T06:22:09.441837",
     "status": "completed"
    },
    "tags": []
   },
   "outputs": [],
   "source": [
    "#q3.hint()\n",
    "#q3.solution()"
   ]
  },
  {
   "cell_type": "markdown",
   "id": "3effdce4",
   "metadata": {
    "papermill": {
     "duration": 0.006898,
     "end_time": "2023-02-05T06:22:09.472550",
     "exception": false,
     "start_time": "2023-02-05T06:22:09.465652",
     "status": "completed"
    },
    "tags": []
   },
   "source": [
    "## 4.\n",
    "Create variable `centered_price` containing a version of the `price` column with the mean price subtracted.\n",
    "\n",
    "(Note: this 'centering' transformation is a common preprocessing step before applying various machine learning algorithms.) "
   ]
  },
  {
   "cell_type": "code",
   "execution_count": 8,
   "id": "c3a43f22",
   "metadata": {
    "execution": {
     "iopub.execute_input": "2023-02-05T06:22:09.488916Z",
     "iopub.status.busy": "2023-02-05T06:22:09.488425Z",
     "iopub.status.idle": "2023-02-05T06:22:09.501694Z",
     "shell.execute_reply": "2023-02-05T06:22:09.500529Z"
    },
    "papermill": {
     "duration": 0.02435,
     "end_time": "2023-02-05T06:22:09.504207",
     "exception": false,
     "start_time": "2023-02-05T06:22:09.479857",
     "status": "completed"
    },
    "tags": []
   },
   "outputs": [
    {
     "data": {
      "application/javascript": [
       "parent.postMessage({\"jupyterEvent\": \"custom.exercise_interaction\", \"data\": {\"outcomeType\": 1, \"valueTowardsCompletion\": 0.14285714285714285, \"interactionType\": 1, \"questionType\": 1, \"questionId\": \"4_CenteredPrice\", \"learnToolsVersion\": \"0.3.4\", \"failureMessage\": \"\", \"exceptionClass\": \"\", \"trace\": \"\"}}, \"*\")"
      ],
      "text/plain": [
       "<IPython.core.display.Javascript object>"
      ]
     },
     "metadata": {},
     "output_type": "display_data"
    },
    {
     "data": {
      "text/markdown": [
       "<span style=\"color:#33cc33\">Correct</span>"
      ],
      "text/plain": [
       "Correct"
      ]
     },
     "metadata": {},
     "output_type": "display_data"
    }
   ],
   "source": [
    "centered_price = reviews.price - reviews.price.mean()\n",
    "\n",
    "# Check your answer\n",
    "q4.check()"
   ]
  },
  {
   "cell_type": "code",
   "execution_count": 9,
   "id": "5c87e0bc",
   "metadata": {
    "execution": {
     "iopub.execute_input": "2023-02-05T06:22:09.520633Z",
     "iopub.status.busy": "2023-02-05T06:22:09.520189Z",
     "iopub.status.idle": "2023-02-05T06:22:09.524603Z",
     "shell.execute_reply": "2023-02-05T06:22:09.523667Z"
    },
    "papermill": {
     "duration": 0.01507,
     "end_time": "2023-02-05T06:22:09.526720",
     "exception": false,
     "start_time": "2023-02-05T06:22:09.511650",
     "status": "completed"
    },
    "tags": []
   },
   "outputs": [],
   "source": [
    "#q4.hint()\n",
    "#q4.solution()"
   ]
  },
  {
   "cell_type": "markdown",
   "id": "d4b50965",
   "metadata": {
    "papermill": {
     "duration": 0.006949,
     "end_time": "2023-02-05T06:22:09.541088",
     "exception": false,
     "start_time": "2023-02-05T06:22:09.534139",
     "status": "completed"
    },
    "tags": []
   },
   "source": [
    "## 5.\n",
    "I'm an economical wine buyer. Which wine is the \"best bargain\"? Create a variable `bargain_wine` with the title of the wine with the highest points-to-price ratio in the dataset."
   ]
  },
  {
   "cell_type": "code",
   "execution_count": 10,
   "id": "49eaae28",
   "metadata": {
    "execution": {
     "iopub.execute_input": "2023-02-05T06:22:09.557391Z",
     "iopub.status.busy": "2023-02-05T06:22:09.556936Z",
     "iopub.status.idle": "2023-02-05T06:22:09.570144Z",
     "shell.execute_reply": "2023-02-05T06:22:09.569091Z"
    },
    "papermill": {
     "duration": 0.023865,
     "end_time": "2023-02-05T06:22:09.572299",
     "exception": false,
     "start_time": "2023-02-05T06:22:09.548434",
     "status": "completed"
    },
    "tags": []
   },
   "outputs": [
    {
     "data": {
      "application/javascript": [
       "parent.postMessage({\"jupyterEvent\": \"custom.exercise_interaction\", \"data\": {\"outcomeType\": 1, \"valueTowardsCompletion\": 0.14285714285714285, \"interactionType\": 1, \"questionType\": 2, \"questionId\": \"5_BargainWine\", \"learnToolsVersion\": \"0.3.4\", \"failureMessage\": \"\", \"exceptionClass\": \"\", \"trace\": \"\"}}, \"*\")"
      ],
      "text/plain": [
       "<IPython.core.display.Javascript object>"
      ]
     },
     "metadata": {},
     "output_type": "display_data"
    },
    {
     "data": {
      "text/markdown": [
       "<span style=\"color:#33cc33\">Correct</span>"
      ],
      "text/plain": [
       "Correct"
      ]
     },
     "metadata": {},
     "output_type": "display_data"
    }
   ],
   "source": [
    "bargain_wine = reviews.loc[(reviews.points/reviews.price).idxmax(), 'title']\n",
    "\n",
    "# Check your answer\n",
    "q5.check()"
   ]
  },
  {
   "cell_type": "code",
   "execution_count": 11,
   "id": "a3d654e4",
   "metadata": {
    "execution": {
     "iopub.execute_input": "2023-02-05T06:22:09.588832Z",
     "iopub.status.busy": "2023-02-05T06:22:09.588401Z",
     "iopub.status.idle": "2023-02-05T06:22:09.593307Z",
     "shell.execute_reply": "2023-02-05T06:22:09.592214Z"
    },
    "papermill": {
     "duration": 0.015733,
     "end_time": "2023-02-05T06:22:09.595459",
     "exception": false,
     "start_time": "2023-02-05T06:22:09.579726",
     "status": "completed"
    },
    "tags": []
   },
   "outputs": [],
   "source": [
    "# q5.hint()\n",
    "# q5.solution()"
   ]
  },
  {
   "cell_type": "markdown",
   "id": "8bb5ae96",
   "metadata": {
    "papermill": {
     "duration": 0.007228,
     "end_time": "2023-02-05T06:22:09.610446",
     "exception": false,
     "start_time": "2023-02-05T06:22:09.603218",
     "status": "completed"
    },
    "tags": []
   },
   "source": [
    "## 6.\n",
    "There are only so many words you can use when describing a bottle of wine. Is a wine more likely to be \"tropical\" or \"fruity\"? Create a Series `descriptor_counts` counting how many times each of these two words appears in the `description` column in the dataset. (For simplicity, let's ignore the capitalized versions of these words.)"
   ]
  },
  {
   "cell_type": "code",
   "execution_count": 12,
   "id": "40bc20d5",
   "metadata": {
    "execution": {
     "iopub.execute_input": "2023-02-05T06:22:09.627582Z",
     "iopub.status.busy": "2023-02-05T06:22:09.627090Z",
     "iopub.status.idle": "2023-02-05T06:22:09.774481Z",
     "shell.execute_reply": "2023-02-05T06:22:09.773365Z"
    },
    "papermill": {
     "duration": 0.158936,
     "end_time": "2023-02-05T06:22:09.776985",
     "exception": false,
     "start_time": "2023-02-05T06:22:09.618049",
     "status": "completed"
    },
    "tags": []
   },
   "outputs": [
    {
     "data": {
      "application/javascript": [
       "parent.postMessage({\"jupyterEvent\": \"custom.exercise_interaction\", \"data\": {\"outcomeType\": 1, \"valueTowardsCompletion\": 0.14285714285714285, \"interactionType\": 1, \"questionType\": 1, \"questionId\": \"6_DescriptorCounts\", \"learnToolsVersion\": \"0.3.4\", \"failureMessage\": \"\", \"exceptionClass\": \"\", \"trace\": \"\"}}, \"*\")"
      ],
      "text/plain": [
       "<IPython.core.display.Javascript object>"
      ]
     },
     "metadata": {},
     "output_type": "display_data"
    },
    {
     "data": {
      "text/markdown": [
       "<span style=\"color:#33cc33\">Correct</span>"
      ],
      "text/plain": [
       "Correct"
      ]
     },
     "metadata": {},
     "output_type": "display_data"
    }
   ],
   "source": [
    "n_trop = reviews.description.map(lambda desc: \"tropical\" in desc).sum()\n",
    "n_fruity = reviews.description.map(lambda desc: \"fruity\" in desc).sum()\n",
    "descriptor_counts = pd.Series([n_trop, n_fruity], index=['tropical', 'fruity'])\n",
    "\n",
    "# Check your answer\n",
    "q6.check()"
   ]
  },
  {
   "cell_type": "code",
   "execution_count": 13,
   "id": "cf1a11e9",
   "metadata": {
    "execution": {
     "iopub.execute_input": "2023-02-05T06:22:09.794627Z",
     "iopub.status.busy": "2023-02-05T06:22:09.794207Z",
     "iopub.status.idle": "2023-02-05T06:22:09.798966Z",
     "shell.execute_reply": "2023-02-05T06:22:09.797980Z"
    },
    "papermill": {
     "duration": 0.016353,
     "end_time": "2023-02-05T06:22:09.801257",
     "exception": false,
     "start_time": "2023-02-05T06:22:09.784904",
     "status": "completed"
    },
    "tags": []
   },
   "outputs": [],
   "source": [
    "# q6.hint()\n",
    "# q6.solution()"
   ]
  },
  {
   "cell_type": "markdown",
   "id": "2e9e500d",
   "metadata": {
    "papermill": {
     "duration": 0.007636,
     "end_time": "2023-02-05T06:22:09.816654",
     "exception": false,
     "start_time": "2023-02-05T06:22:09.809018",
     "status": "completed"
    },
    "tags": []
   },
   "source": [
    "## 7.\n",
    "We'd like to host these wine reviews on our website, but a rating system ranging from 80 to 100 points is too hard to understand - we'd like to translate them into simple star ratings. A score of 95 or higher counts as 3 stars, a score of at least 85 but less than 95 is 2 stars. Any other score is 1 star.\n",
    "\n",
    "Also, the Canadian Vintners Association bought a lot of ads on the site, so any wines from Canada should automatically get 3 stars, regardless of points.\n",
    "\n",
    "Create a series `star_ratings` with the number of stars corresponding to each review in the dataset."
   ]
  },
  {
   "cell_type": "code",
   "execution_count": 14,
   "id": "f1942c94",
   "metadata": {
    "execution": {
     "iopub.execute_input": "2023-02-05T06:22:09.834250Z",
     "iopub.status.busy": "2023-02-05T06:22:09.833814Z",
     "iopub.status.idle": "2023-02-05T06:22:13.797247Z",
     "shell.execute_reply": "2023-02-05T06:22:13.796035Z"
    },
    "papermill": {
     "duration": 3.975095,
     "end_time": "2023-02-05T06:22:13.799673",
     "exception": false,
     "start_time": "2023-02-05T06:22:09.824578",
     "status": "completed"
    },
    "tags": []
   },
   "outputs": [
    {
     "data": {
      "application/javascript": [
       "parent.postMessage({\"jupyterEvent\": \"custom.exercise_interaction\", \"data\": {\"outcomeType\": 1, \"valueTowardsCompletion\": 0.14285714285714285, \"interactionType\": 1, \"questionType\": 1, \"questionId\": \"7_StarRatings\", \"learnToolsVersion\": \"0.3.4\", \"failureMessage\": \"\", \"exceptionClass\": \"\", \"trace\": \"\"}}, \"*\")"
      ],
      "text/plain": [
       "<IPython.core.display.Javascript object>"
      ]
     },
     "metadata": {},
     "output_type": "display_data"
    },
    {
     "data": {
      "text/markdown": [
       "<span style=\"color:#33cc33\">Correct</span>"
      ],
      "text/plain": [
       "Correct"
      ]
     },
     "metadata": {},
     "output_type": "display_data"
    }
   ],
   "source": [
    "def stars(row):\n",
    "    if (row.country == 'Canada') | (row.points >= 95):\n",
    "        return 3\n",
    "    elif row.points >= 85:\n",
    "        return 2\n",
    "    else:\n",
    "        return 1\n",
    "\n",
    "star_ratings = reviews.apply(stars, axis='columns')\n",
    "\n",
    "# Check your answer\n",
    "q7.check()"
   ]
  },
  {
   "cell_type": "code",
   "execution_count": 15,
   "id": "7d14d1cd",
   "metadata": {
    "execution": {
     "iopub.execute_input": "2023-02-05T06:22:13.817849Z",
     "iopub.status.busy": "2023-02-05T06:22:13.817430Z",
     "iopub.status.idle": "2023-02-05T06:22:13.822373Z",
     "shell.execute_reply": "2023-02-05T06:22:13.821074Z"
    },
    "papermill": {
     "duration": 0.016819,
     "end_time": "2023-02-05T06:22:13.824629",
     "exception": false,
     "start_time": "2023-02-05T06:22:13.807810",
     "status": "completed"
    },
    "tags": []
   },
   "outputs": [],
   "source": [
    "#q7.hint()\n",
    "# q7.solution()"
   ]
  },
  {
   "cell_type": "markdown",
   "id": "fd1ade6e",
   "metadata": {
    "papermill": {
     "duration": 0.007869,
     "end_time": "2023-02-05T06:22:13.840714",
     "exception": false,
     "start_time": "2023-02-05T06:22:13.832845",
     "status": "completed"
    },
    "tags": []
   },
   "source": [
    "# Keep going\n",
    "Continue to **[grouping and sorting](https://www.kaggle.com/residentmario/grouping-and-sorting)**."
   ]
  },
  {
   "cell_type": "markdown",
   "id": "7e49ece3",
   "metadata": {
    "papermill": {
     "duration": 0.008002,
     "end_time": "2023-02-05T06:22:13.857017",
     "exception": false,
     "start_time": "2023-02-05T06:22:13.849015",
     "status": "completed"
    },
    "tags": []
   },
   "source": [
    "---\n",
    "\n",
    "\n",
    "\n",
    "\n",
    "*Have questions or comments? Visit the [course discussion forum](https://www.kaggle.com/learn/pandas/discussion) to chat with other learners.*"
   ]
  }
 ],
 "metadata": {
  "kernelspec": {
   "display_name": "Python 3",
   "language": "python",
   "name": "python3"
  },
  "language_info": {
   "codemirror_mode": {
    "name": "ipython",
    "version": 3
   },
   "file_extension": ".py",
   "mimetype": "text/x-python",
   "name": "python",
   "nbconvert_exporter": "python",
   "pygments_lexer": "ipython3",
   "version": "3.7.12"
  },
  "papermill": {
   "default_parameters": {},
   "duration": 21.757324,
   "end_time": "2023-02-05T06:22:14.587716",
   "environment_variables": {},
   "exception": null,
   "input_path": "__notebook__.ipynb",
   "output_path": "__notebook__.ipynb",
   "parameters": {},
   "start_time": "2023-02-05T06:21:52.830392",
   "version": "2.3.4"
  }
 },
 "nbformat": 4,
 "nbformat_minor": 5
}
